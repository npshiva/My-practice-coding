{
 "cells": [
  {
   "cell_type": "code",
   "execution_count": 1,
   "metadata": {},
   "outputs": [
    {
     "name": "stdout",
     "output_type": "stream",
     "text": [
      "Initial empty Tuple: \n",
      "()\n"
     ]
    }
   ],
   "source": [
    "# Creating an empty Tuple\n",
    "Tuple1 = ()\n",
    "print(\"Initial empty Tuple: \")\n",
    "print(Tuple1)\n",
    " "
   ]
  },
  {
   "cell_type": "code",
   "execution_count": 2,
   "metadata": {},
   "outputs": [
    {
     "name": "stdout",
     "output_type": "stream",
     "text": [
      "\n",
      "Tuple with the use of String: \n",
      "('Geeks', 'For')\n"
     ]
    }
   ],
   "source": [
    "# Creating a Tuple\n",
    "# with the use of string\n",
    "Tuple1 = ('Geeks', 'For')\n",
    "print(\"\\nTuple with the use of String: \")\n",
    "print(Tuple1)"
   ]
  },
  {
   "cell_type": "code",
   "execution_count": 3,
   "metadata": {},
   "outputs": [
    {
     "name": "stdout",
     "output_type": "stream",
     "text": [
      "\n",
      "Tuple using List: \n",
      "(1, 2, 4, 5, 6)\n"
     ]
    }
   ],
   "source": [
    "# Creating a Tuple with\n",
    "# the use of list\n",
    "list1 = [1, 2, 4, 5, 6]\n",
    "print(\"\\nTuple using List: \")\n",
    "print(tuple(list1))"
   ]
  },
  {
   "cell_type": "code",
   "execution_count": 4,
   "metadata": {},
   "outputs": [
    {
     "name": "stdout",
     "output_type": "stream",
     "text": [
      "\n",
      "Tuple with the use of function: \n",
      "('G', 'e', 'e', 'k', 's')\n"
     ]
    }
   ],
   "source": [
    "# Creating a Tuple\n",
    "# with the use of built-in function\n",
    "Tuple1 = tuple('Geeks')\n",
    "print(\"\\nTuple with the use of function: \")\n",
    "print(Tuple1)"
   ]
  },
  {
   "cell_type": "code",
   "execution_count": 5,
   "metadata": {},
   "outputs": [
    {
     "name": "stdout",
     "output_type": "stream",
     "text": [
      "\n",
      "Tuple with Mixed Datatypes: \n",
      "(5, 'Welcome', 7, 'Geeks')\n"
     ]
    }
   ],
   "source": [
    "# Creating a Tuple\n",
    "# with Mixed Datatype\n",
    "Tuple1 = (5, 'Welcome', 7, 'Geeks')\n",
    "print(\"\\nTuple with Mixed Datatypes: \")\n",
    "print(Tuple1)"
   ]
  },
  {
   "cell_type": "code",
   "execution_count": 6,
   "metadata": {},
   "outputs": [
    {
     "name": "stdout",
     "output_type": "stream",
     "text": [
      "\n",
      "Tuple with nested tuples: \n",
      "((0, 1, 2, 3), ('python', 'geek'))\n"
     ]
    }
   ],
   "source": [
    "# Creating a Tuple\n",
    "# with nested tuples\n",
    "Tuple1 = (0, 1, 2, 3)\n",
    "Tuple2 = ('python', 'geek')\n",
    "Tuple3 = (Tuple1, Tuple2)\n",
    "print(\"\\nTuple with nested tuples: \")\n",
    "print(Tuple3)"
   ]
  },
  {
   "cell_type": "code",
   "execution_count": 7,
   "metadata": {},
   "outputs": [
    {
     "name": "stdout",
     "output_type": "stream",
     "text": [
      "\n",
      "Tuple with repetition: \n",
      "('Geeks', 'Geeks', 'Geeks')\n"
     ]
    }
   ],
   "source": [
    "# Creating a Tuple\n",
    "# with repetition\n",
    "Tuple1 = ('Geeks',) * 3\n",
    "print(\"\\nTuple with repetition: \")\n",
    "print(Tuple1)"
   ]
  },
  {
   "cell_type": "code",
   "execution_count": 8,
   "metadata": {},
   "outputs": [
    {
     "name": "stdout",
     "output_type": "stream",
     "text": [
      "\n",
      "Tuple with a loop\n",
      "('Geeks',)\n",
      "(('Geeks',),)\n",
      "((('Geeks',),),)\n",
      "(((('Geeks',),),),)\n",
      "((((('Geeks',),),),),)\n"
     ]
    }
   ],
   "source": [
    "# Creating a Tuple\n",
    "# with the use of loop\n",
    "Tuple1 = ('Geeks')\n",
    "n = 5\n",
    "print(\"\\nTuple with a loop\")\n",
    "for i in range(int(n)):\n",
    "    Tuple1 = (Tuple1,)\n",
    "    print(Tuple1)"
   ]
  },
  {
   "cell_type": "code",
   "execution_count": null,
   "metadata": {},
   "outputs": [],
   "source": [
    "#Accessing of Tuples\n",
    "#Tuples are immutable, and usually, they contain a sequence of heterogeneous elements that are accessed via unpacking or indexing (or even by attribute in the case of named tuples). Lists are mutable, and their elements are usually homogeneous and are accessed by iterating over the list.\n",
    "\n",
    "#Note: In unpacking of tuple number of variables on the left-hand side should be equal to a number of values in given tuple a. \n"
   ]
  },
  {
   "cell_type": "code",
   "execution_count": 9,
   "metadata": {},
   "outputs": [
    {
     "name": "stdout",
     "output_type": "stream",
     "text": [
      "\n",
      "First element of Tuple: \n",
      "G\n"
     ]
    }
   ],
   "source": [
    "# Accessing Tuple\n",
    "# with Indexing\n",
    "Tuple1 = tuple(\"Geeks\")\n",
    "print(\"\\nFirst element of Tuple: \")\n",
    "print(Tuple1[0])\n",
    " "
   ]
  },
  {
   "cell_type": "code",
   "execution_count": 10,
   "metadata": {},
   "outputs": [
    {
     "name": "stdout",
     "output_type": "stream",
     "text": [
      "\n",
      "Values after unpacking: \n",
      "Geeks\n",
      "For\n",
      "Geeks\n"
     ]
    }
   ],
   "source": [
    "# Tuple unpacking\n",
    "Tuple1 = (\"Geeks\", \"For\", \"Geeks\")\n",
    " \n",
    "# This line unpack\n",
    "# values of Tuple1\n",
    "a, b, c = Tuple1\n",
    "print(\"\\nValues after unpacking: \")\n",
    "print(a)\n",
    "print(b)\n",
    "print(c)"
   ]
  },
  {
   "cell_type": "code",
   "execution_count": null,
   "metadata": {},
   "outputs": [],
   "source": [
    "#Concatenation of Tuples\n",
    "#Concatenation of tuple is the process of joining two or more Tuples. Concatenation is done by the use of ‘+’ operator. Concatenation of tuples is done always from the end of the original tuple. Other arithmetic operations do not apply on Tuples. \n",
    "\n",
    "#Note- Only the same datatypes can be combined with concatenation, an error arises if a list and a tuple are combined. \n",
    "\n",
    "\n"
   ]
  },
  {
   "cell_type": "code",
   "execution_count": 11,
   "metadata": {},
   "outputs": [
    {
     "name": "stdout",
     "output_type": "stream",
     "text": [
      "Tuple 1: \n",
      "(0, 1, 2, 3)\n",
      "\n",
      "Tuple2: \n",
      "('Geeks', 'For', 'Geeks')\n",
      "\n",
      "Tuples after Concatenation: \n",
      "(0, 1, 2, 3, 'Geeks', 'For', 'Geeks')\n"
     ]
    }
   ],
   "source": [
    "# Concatenation of tuples\n",
    "Tuple1 = (0, 1, 2, 3)\n",
    "Tuple2 = ('Geeks', 'For', 'Geeks')\n",
    " \n",
    "Tuple3 = Tuple1 + Tuple2\n",
    " \n",
    "# Printing first Tuple\n",
    "print(\"Tuple 1: \")\n",
    "print(Tuple1)\n",
    " \n",
    "# Printing Second Tuple\n",
    "print(\"\\nTuple2: \")\n",
    "print(Tuple2)\n",
    " \n",
    "# Printing Final Tuple\n",
    "print(\"\\nTuples after Concatenation: \")\n",
    "print(Tuple3)"
   ]
  },
  {
   "cell_type": "code",
   "execution_count": null,
   "metadata": {},
   "outputs": [],
   "source": [
    "#Slicing of Tuple\n",
    "#Slicing of a Tuple is done to fetch a specific range or slice of sub-elements from a Tuple. Slicing can also be done to lists and arrays. Indexing in a list results to fetching a single element whereas Slicing allows to fetch a set of elements. \n",
    "\n",
    "#Note- Negative Increment values can also be used to reverse the sequence of Tuples. "
   ]
  },
  {
   "cell_type": "code",
   "execution_count": 12,
   "metadata": {},
   "outputs": [
    {
     "name": "stdout",
     "output_type": "stream",
     "text": [
      "Removal of First Element: \n",
      "('E', 'E', 'K', 'S', 'F', 'O', 'R', 'G', 'E', 'E', 'K', 'S')\n",
      "\n",
      "Tuple after sequence of Element is reversed: \n",
      "('S', 'K', 'E', 'E', 'G', 'R', 'O', 'F', 'S', 'K', 'E', 'E', 'G')\n",
      "\n",
      "Printing elements between Range 4-9: \n",
      "('S', 'F', 'O', 'R', 'G')\n"
     ]
    }
   ],
   "source": [
    "# Slicing of a Tuple\n",
    "# with Numbers\n",
    "Tuple1 = tuple('GEEKSFORGEEKS')\n",
    " \n",
    "# Removing First element\n",
    "print(\"Removal of First Element: \")\n",
    "print(Tuple1[1:])\n",
    " \n",
    "# Reversing the Tuple\n",
    "print(\"\\nTuple after sequence of Element is reversed: \")\n",
    "print(Tuple1[::-1])\n",
    " \n",
    "# Printing elements of a Range\n",
    "print(\"\\nPrinting elements between Range 4-9: \")\n",
    "print(Tuple1[4:9])"
   ]
  },
  {
   "cell_type": "code",
   "execution_count": null,
   "metadata": {},
   "outputs": [],
   "source": [
    "#Deleting a Tuple\n",
    "#Tuples are immutable and hence they do not allow deletion of a part of it. The entire tuple gets deleted by the use of del() method. \n",
    "\n",
    "#Note- Printing of Tuple after deletion results in an Error. \n",
    "\n"
   ]
  },
  {
   "cell_type": "code",
   "execution_count": 13,
   "metadata": {},
   "outputs": [
    {
     "ename": "NameError",
     "evalue": "name 'Tuple1' is not defined",
     "output_type": "error",
     "traceback": [
      "\u001b[1;31m---------------------------------------------------------------------------\u001b[0m",
      "\u001b[1;31mNameError\u001b[0m                                 Traceback (most recent call last)",
      "\u001b[1;32m<ipython-input-13-2b86997624df>\u001b[0m in \u001b[0;36m<module>\u001b[1;34m\u001b[0m\n\u001b[0;32m      4\u001b[0m \u001b[1;32mdel\u001b[0m \u001b[0mTuple1\u001b[0m\u001b[1;33m\u001b[0m\u001b[1;33m\u001b[0m\u001b[0m\n\u001b[0;32m      5\u001b[0m \u001b[1;33m\u001b[0m\u001b[0m\n\u001b[1;32m----> 6\u001b[1;33m \u001b[0mprint\u001b[0m\u001b[1;33m(\u001b[0m\u001b[0mTuple1\u001b[0m\u001b[1;33m)\u001b[0m\u001b[1;33m\u001b[0m\u001b[1;33m\u001b[0m\u001b[0m\n\u001b[0m",
      "\u001b[1;31mNameError\u001b[0m: name 'Tuple1' is not defined"
     ]
    }
   ],
   "source": [
    "# Deleting a Tuple\n",
    " \n",
    "Tuple1 = (0, 1, 2, 3, 4)\n",
    "del Tuple1\n",
    " \n",
    "print(Tuple1)"
   ]
  },
  {
   "cell_type": "code",
   "execution_count": null,
   "metadata": {},
   "outputs": [],
   "source": []
  },
  {
   "cell_type": "code",
   "execution_count": null,
   "metadata": {},
   "outputs": [],
   "source": []
  },
  {
   "cell_type": "code",
   "execution_count": null,
   "metadata": {},
   "outputs": [],
   "source": []
  },
  {
   "cell_type": "code",
   "execution_count": null,
   "metadata": {},
   "outputs": [],
   "source": []
  },
  {
   "cell_type": "code",
   "execution_count": null,
   "metadata": {},
   "outputs": [],
   "source": []
  },
  {
   "cell_type": "code",
   "execution_count": null,
   "metadata": {},
   "outputs": [],
   "source": []
  },
  {
   "cell_type": "code",
   "execution_count": null,
   "metadata": {},
   "outputs": [],
   "source": []
  },
  {
   "cell_type": "code",
   "execution_count": null,
   "metadata": {},
   "outputs": [],
   "source": [
    "\n",
    "Built-In Methods\n",
    "Built-in-Method\tDescription\n",
    "index( )\tFind in the tuple and returns the index of the given value where it’s available\n",
    "count( )\tReturns the frequency of occurrence of a specified value\n",
    "Built-In Functions\n",
    "Built-in Function\tDescription\n",
    "all()\tReturns true if all element are true or if tuple is empty\n",
    "any()\treturn true if any element of the tuple is true. if tuple is empty, return false\n",
    "len()\tReturns length of the tuple or size of the tuple\n",
    "enumerate()\tReturns enumerate object of tuple\n",
    "max()\treturn maximum element of given tuple\n",
    "min()\treturn minimum element of given tuple\n",
    "sum()\tSums up the numbers in the tuple\n",
    "sorted()\tinput elements in the tuple and return a new sorted list\n",
    "tuple()\tConvert an iterable to a tuple.\n",
    " \n",
    "Tuples VS Lists:\n",
    "Similarities\tDifferences\n",
    "Functions that can be used for both lists and tuples:\n",
    "\n",
    "len(), max(), min(), sum(), any(), all(), sorted()\n",
    "\n",
    "Methods that cannot be used for tuples:\n",
    "\n",
    "append(), insert(), remove(), pop(), clear(), sort(), reverse()\n",
    "\n",
    "Methods that can be used for both lists and tuples:\n",
    "\n",
    "count(), Index()\n",
    "\n",
    "we generally use ‘tuples’ for heterogeneous (different) data types and ‘lists’ for homogeneous (similar) data types.\n",
    "Tuples can be stored in lists.\tIterating through a ‘tuple’ is faster than in a ‘list’.\n",
    "Lists can be stored in tuples.\t‘Lists’ are mutable whereas ‘tuples’ are immutable.\n",
    "Both ‘tuples’ and ‘lists’ can be nested.\tTuples that contain immutable elements can be used as a key for a dictionary.\n",
    " \n",
    "Recent Articles on Tuple\n",
    "\n",
    "\n",
    "Tuples Programs\n",
    "\n",
    "Print unique rows in a given boolean Strings\n",
    "Program to generate all possible valid IP addresses from given string\n",
    "Python Dictionary to find mirror characters in a string\n",
    "Generate two output strings depending upon occurrence of character in input string in Python\n",
    "Python groupby method to remove all consecutive duplicates\n",
    "Convert a list of characters into a string\n",
    "Remove empty tuples from a list\n",
    "Reversing a Tuple\n",
    "Python Set symmetric_difference()\n",
    "Convert a list of Tuples into Dictionary\n",
    "Sort a tuple by its float element\n",
    "Count occurrences of an element in a Tuple\n",
    "Count the elements in a list until an element is a Tuple\n",
    "Sort Tuples in Increasing Order by any key\n",
    "Namedtuple in Python \n",
    "Useful Links:\n",
    "\n",
    "Output of Python Programs\n",
    "Recent Articles on Python Tuples\n",
    "Multiple Choice Questions – Python\n",
    "All articles in Python Category\n",
    "\n",
    "\n",
    "\n",
    "\n",
    "Like\n",
    "107\n",
    "Previous\n",
    "Python Lists\n",
    "Next\n",
    "Python Sets\n",
    "RECOMMENDED ARTICLES\n",
    "Page :\n",
    "1\n",
    "2\n",
    "3\n",
    "Python | Remove duplicate tuples from list of tuples\n",
    "17, Jun 19\n",
    "Python | Remove tuples having duplicate first value from given list of tuples\n",
    "28, Mar 19\n",
    "Python program to find tuples which have all elements divisible by K from a list of tuples\n",
    "01, Sep 20\n",
    "Python - Filter all uppercase characters Tuples from given list of tuples\n",
    "28, Aug 20\n",
    "Python | Find the tuples containing the given element from a list of tuples\n",
    "14, Feb 19\n",
    "Python | How to Concatenate tuples to nested tuples\n",
    "11, Nov 19\n",
    "Python | Remove tuples from list of tuples if greater than n\n",
    "28, Feb 19\n",
    "Python | Convert string tuples to list tuples\n",
    "15, Oct 19\n",
    "Python | Combining tuples in list of tuples\n",
    "13, May 19\n",
    "Python program to find Tuples with positive elements in List of tuples\n",
    "01, Sep 20\n",
    "Python | Count tuples occurrence in list of tuples\n",
    "02, Apr 19\n",
    "Output of python program | Set 12(Lists and Tuples)\n",
    "06, Jun 17\n",
    "Output of python program | Set 13(Lists and Tuples)\n",
    "08, Jun 17\n",
    "Output of Python Programs | Set 18 (List and Tuples)\n",
    "21, Jul 17\n",
    "Output of Python Programs | Set 20 (Tuples)\n",
    "12, Dec 17\n",
    "Python | Sort Tuples in Increasing Order by any key\n",
    "18, Dec 17\n",
    "Python | Filter dictionary of tuples by condition\n",
    "27, Aug 19\n",
    "Python | Unzip a list of tuples\n",
    "29, Nov 18\n",
    "Python | Merge two lists into list of tuples\n",
    "27, Dec 18\n",
    "Python | Get first element with maximum value in list of tuples\n",
    "30, Dec 18\n",
    "Python | Position Summation in List of Tuples\n",
    "04, Feb 19\n",
    "Python | Min and Max value in list of tuples\n",
    "06, Feb 19\n",
    "Python | Remove tuple from list of tuples if not containing any character\n",
    "28, Feb 19\n",
    "Python Group by matching second tuple value in list of tuples\n",
    "20, Feb 19\n",
    "Article Contributed By :\n",
    "https://media.geeksforgeeks.org/auth/avatar.png\n",
    "GeeksforGeeks\n",
    "Vote for difficulty\n",
    "Current difficulty : Easy\n",
    "Easy\n",
    "Normal\n",
    "Medium\n",
    "Hard\n",
    "Expert\n",
    "Improved By :\n",
    "nikhilaggarwal3\n",
    "vishwajeet0524\n",
    "sooda367\n",
    "gabaa406\n",
    "promitbodak\n",
    "santeswar\n",
    "Article Tags :\n",
    "python-tuple\n",
    "Python\n",
    "Practice Tags :\n",
    "python\n",
    "Improve Article\n",
    "Report Issue\n",
    "\n",
    "Data Structures & Algorithms- Self Paced Course\n",
    "View Details\n",
    "\n",
    "AD\n",
    "\n",
    "AD\n",
    "\n",
    "\n",
    "WHAT'S NEW\n",
    "\n",
    "Python Programming Foundation -Self Paced Course\n",
    "View Details\n",
    "\n",
    "Complete Interview Preparation- Self Paced Course\n",
    "View Details\n",
    "\n",
    "\n",
    "AD\n",
    "\n",
    "\n",
    "AD\n",
    "\n",
    "AD\n",
    "\n",
    "A-143, 9th Floor, Sovereign Corporate Tower,\n",
    "Sector-136, Noida, Uttar Pradesh - 201305\n",
    "feedback@geeksforgeeks.org\n",
    "Company\n",
    "About Us\n",
    "Careers\n",
    "In Media\n",
    "Contact Us\n",
    "Privacy Policy\n",
    "Copyright Policy\n",
    "Learn\n",
    "Algorithms\n",
    "Data Structures\n",
    "SDE Cheat Sheet\n",
    "Machine learning\n",
    "CS Subjects\n",
    "Video Tutorials\n",
    "Courses\n",
    "News\n",
    "Top News\n",
    "Technology\n",
    "Work & Career\n",
    "Business\n",
    "Finance\n",
    "Lifestyle\n",
    "Knowledge\n",
    "Languages\n",
    "Python\n",
    "Java\n",
    "CPP\n",
    "Golang\n",
    "C#\n",
    "SQL\n",
    "Kotlin\n",
    "Web Development\n",
    "Web Tutorials\n",
    "Django Tutorial\n",
    "HTML\n",
    "JavaScript\n",
    "Bootstrap\n",
    "ReactJS\n",
    "NodeJS\n",
    "Contribute\n",
    "Write an Article\n",
    "Improve an Article\n",
    "Pick Topics to Write\n",
    "Write Interview Experience\n",
    "Internships\n",
    "Video Internship\n",
    "@geeksforgeeks , Some rights reserved\n",
    "\n",
    "We use cookies to ensure you have the best browsing experience on our website. By using our site, you acknowledge that you have read and understood our Cookie Policy & Privacy Policy\n",
    "Got It !\n",
    "Lightbox\n",
    "Start Your Coding Journey Now!\n",
    "Login\n",
    "Register"
   ]
  },
  {
   "cell_type": "code",
   "execution_count": null,
   "metadata": {},
   "outputs": [],
   "source": []
  }
 ],
 "metadata": {
  "kernelspec": {
   "display_name": "Python 3",
   "language": "python",
   "name": "python3"
  },
  "language_info": {
   "codemirror_mode": {
    "name": "ipython",
    "version": 3
   },
   "file_extension": ".py",
   "mimetype": "text/x-python",
   "name": "python",
   "nbconvert_exporter": "python",
   "pygments_lexer": "ipython3",
   "version": "3.7.4"
  }
 },
 "nbformat": 4,
 "nbformat_minor": 2
}

{
 "cells": [
  {
   "cell_type": "code",
   "execution_count": 2,
   "metadata": {},
   "outputs": [
    {
     "name": "stdout",
     "output_type": "stream",
     "text": [
      "The number 1: 10\n",
      "The number 2: 40\n",
      "The answer:  1040\n"
     ]
    }
   ],
   "source": [
    "num1=(input(\"The number 1: \"))\n",
    "num2=(input(\"The number 2: \"))\n",
    "add=num1+num2\n",
    "print(\"The answer: \",add)"
   ]
  },
  {
   "cell_type": "code",
   "execution_count": 3,
   "metadata": {},
   "outputs": [
    {
     "name": "stdout",
     "output_type": "stream",
     "text": [
      "The number 1: 10\n",
      "The number 2: 40\n",
      "The answer:  50\n"
     ]
    }
   ],
   "source": [
    "num1=int(input(\"The number 1: \"))\n",
    "num2=int(input(\"The number 2: \"))\n",
    "add=num1+num2\n",
    "print(\"The answer: \",add)"
   ]
  },
  {
   "cell_type": "code",
   "execution_count": null,
   "metadata": {},
   "outputs": [],
   "source": []
  }
 ],
 "metadata": {
  "kernelspec": {
   "display_name": "Python 3",
   "language": "python",
   "name": "python3"
  },
  "language_info": {
   "codemirror_mode": {
    "name": "ipython",
    "version": 3
   },
   "file_extension": ".py",
   "mimetype": "text/x-python",
   "name": "python",
   "nbconvert_exporter": "python",
   "pygments_lexer": "ipython3",
   "version": "3.7.4"
  }
 },
 "nbformat": 4,
 "nbformat_minor": 2
}

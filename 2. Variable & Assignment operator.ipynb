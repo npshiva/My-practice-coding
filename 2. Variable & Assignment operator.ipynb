{
 "cells": [
  {
   "cell_type": "code",
   "execution_count": 1,
   "metadata": {},
   "outputs": [
    {
     "name": "stdout",
     "output_type": "stream",
     "text": [
      "30\n"
     ]
    }
   ],
   "source": [
    "num1=10\n",
    "num2=20\n",
    "add=num1+num2\n",
    "print(add)"
   ]
  },
  {
   "cell_type": "code",
   "execution_count": 2,
   "metadata": {},
   "outputs": [
    {
     "name": "stdout",
     "output_type": "stream",
     "text": [
      "13\n"
     ]
    }
   ],
   "source": [
    "A=32\n",
    "B=45\n",
    "sub=B-A\n",
    "print(sub)"
   ]
  },
  {
   "cell_type": "code",
   "execution_count": 3,
   "metadata": {},
   "outputs": [
    {
     "name": "stdout",
     "output_type": "stream",
     "text": [
      "15\n"
     ]
    }
   ],
   "source": [
    "num1=5\n",
    "num2=8\n",
    "A=num1+num2\n",
    "B=A+2\n",
    "print(B)"
   ]
  },
  {
   "cell_type": "code",
   "execution_count": 4,
   "metadata": {},
   "outputs": [
    {
     "name": "stdout",
     "output_type": "stream",
     "text": [
      "Addition of two numbers\n",
      "The number 1: 10\n",
      "The number 2: 20\n",
      "The answer: 30\n"
     ]
    }
   ],
   "source": [
    "num1=10\n",
    "num2=20\n",
    "add=num1+num2\n",
    "print(\"Addition of two numbers\")\n",
    "print(\"The number 1:\",num1)\n",
    "print(\"The number 2:\",num2)\n",
    "print(\"The answer:\",add)"
   ]
  },
  {
   "cell_type": "code",
   "execution_count": 5,
   "metadata": {},
   "outputs": [
    {
     "name": "stdout",
     "output_type": "stream",
     "text": [
      "Addition of two numbers\n",
      "The number 1:10\n",
      "The number 2:20\n",
      "The answer: 30\n"
     ]
    }
   ],
   "source": [
    "num1=10\n",
    "num2=20\n",
    "add=num1+num2\n",
    "print(\"Addition of two numbers\")\n",
    "print(\"The number 1:\" +str(num1))\n",
    "print(\"The number 2:\" +str(num2))\n",
    "print(\"The answer:\",add)"
   ]
  },
  {
   "cell_type": "code",
   "execution_count": 6,
   "metadata": {},
   "outputs": [
    {
     "name": "stdout",
     "output_type": "stream",
     "text": [
      "The number 1: 30\n",
      "The number 2: 20\n",
      "The answer:  50\n"
     ]
    }
   ],
   "source": [
    "num1=int(input(\"The number 1: \"))\n",
    "num2=int(input(\"The number 2: \"))\n",
    "add=num1+num2\n",
    "print(\"The answer: \",add)"
   ]
  },
  {
   "cell_type": "code",
   "execution_count": null,
   "metadata": {},
   "outputs": [],
   "source": []
  }
 ],
 "metadata": {
  "kernelspec": {
   "display_name": "Python 3",
   "language": "python",
   "name": "python3"
  },
  "language_info": {
   "codemirror_mode": {
    "name": "ipython",
    "version": 3
   },
   "file_extension": ".py",
   "mimetype": "text/x-python",
   "name": "python",
   "nbconvert_exporter": "python",
   "pygments_lexer": "ipython3",
   "version": "3.7.4"
  }
 },
 "nbformat": 4,
 "nbformat_minor": 2
}

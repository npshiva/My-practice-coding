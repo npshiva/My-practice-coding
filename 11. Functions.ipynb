{
 "cells": [
  {
   "cell_type": "code",
   "execution_count": 12,
   "metadata": {},
   "outputs": [
    {
     "name": "stdout",
     "output_type": "stream",
     "text": [
      "adult\n",
      "senior citizen\n",
      "adult\n",
      "children\n",
      "citizen\n",
      "None\n"
     ]
    }
   ],
   "source": [
    "def fun1():\n",
    "    lists=[23,67,32,15,55]\n",
    "    for age in lists:\n",
    "        if age<18:\n",
    "           print(\"children\")\n",
    "        elif age<35:\n",
    "           print(\"adult\")\n",
    "        elif age<59:\n",
    "           print(\"citizen\")\n",
    "        else:\n",
    "           print(\"senior citizen\")\n",
    "        \n",
    "        \n",
    "\n",
    "print(fun1())"
   ]
  },
  {
   "cell_type": "code",
   "execution_count": null,
   "metadata": {},
   "outputs": [],
   "source": [
    "#defining a function and calling a function"
   ]
  },
  {
   "cell_type": "code",
   "execution_count": 17,
   "metadata": {},
   "outputs": [
    {
     "name": "stdout",
     "output_type": "stream",
     "text": [
      "adult\n"
     ]
    },
    {
     "data": {
      "text/plain": [
       "'adult'"
      ]
     },
     "execution_count": 17,
     "metadata": {},
     "output_type": "execute_result"
    }
   ],
   "source": [
    "def fun3():\n",
    "    lists=[23,67,32,15,55]\n",
    "    for age in lists:\n",
    "        if age<18:\n",
    "           print(\"children\")\n",
    "           cate=\"children\"\n",
    "        elif age<35:\n",
    "           print(\"adult\")\n",
    "           cate=\"adult\"\n",
    "        elif age<59:\n",
    "           print(\"citizen\")\n",
    "           cate=\"citizen\"\n",
    "        else:\n",
    "           print(\"senior citizen\")\n",
    "           cate=\"senior citizen\"\n",
    "        return cate\n",
    "        \n",
    "        \n",
    "fun3()\n"
   ]
  },
  {
   "cell_type": "code",
   "execution_count": null,
   "metadata": {},
   "outputs": [],
   "source": [
    "#Function with no return value and assigning function to a variable"
   ]
  },
  {
   "cell_type": "code",
   "execution_count": 18,
   "metadata": {},
   "outputs": [
    {
     "name": "stdout",
     "output_type": "stream",
     "text": [
      "Enter your age: 34\n",
      "adult\n"
     ]
    }
   ],
   "source": [
    "def fun2():\n",
    "    if age<18:\n",
    "        print(\"children\")\n",
    "        cate=\"children\"\n",
    "    elif age<35:\n",
    "        print(\"adult\")\n",
    "        cate=\"Adult\"\n",
    "    elif age<59:\n",
    "        print(\"citizen\")\n",
    "        cate=\"citizen\"\n",
    "    else:\n",
    "        print(\"senior citizen\")\n",
    "        cate=\"senior citizen\"\n",
    "    \n",
    "\n",
    "age=int(input(\"Enter your age: \"))\n",
    "age_Cat=fun2()\n",
    "        "
   ]
  },
  {
   "cell_type": "code",
   "execution_count": 20,
   "metadata": {},
   "outputs": [
    {
     "name": "stdout",
     "output_type": "stream",
     "text": [
      "None\n"
     ]
    }
   ],
   "source": [
    "print(age_Cat)"
   ]
  },
  {
   "cell_type": "code",
   "execution_count": null,
   "metadata": {},
   "outputs": [],
   "source": [
    "#Function with return value and assigning function to a variable"
   ]
  },
  {
   "cell_type": "code",
   "execution_count": 14,
   "metadata": {},
   "outputs": [
    {
     "name": "stdout",
     "output_type": "stream",
     "text": [
      "Enter your age: 45\n",
      "citizen\n"
     ]
    },
    {
     "data": {
      "text/plain": [
       "'citizen'"
      ]
     },
     "execution_count": 14,
     "metadata": {},
     "output_type": "execute_result"
    }
   ],
   "source": [
    "def fun2():\n",
    "    if age<18:\n",
    "        print(\"children\")\n",
    "        cate=\"children\"\n",
    "    elif age<35:\n",
    "        print(\"adult\")\n",
    "        cate=\"Adult\"\n",
    "    elif age<59:\n",
    "        print(\"citizen\")\n",
    "        cate=\"citizen\"\n",
    "    else:\n",
    "        print(\"senior citizen\")\n",
    "        cate=\"senior citizen\"\n",
    "    return cate\n",
    "    \n",
    "\n",
    "age=int(input(\"Enter your age: \"))\n",
    "fun2()\n",
    "        "
   ]
  },
  {
   "cell_type": "code",
   "execution_count": 7,
   "metadata": {},
   "outputs": [
    {
     "name": "stdout",
     "output_type": "stream",
     "text": [
      "Enter your age: 34\n",
      "adult\n"
     ]
    }
   ],
   "source": [
    "age=int(input(\"Enter your age: \"))\n",
    "age_Category1=fun2()"
   ]
  },
  {
   "cell_type": "code",
   "execution_count": 10,
   "metadata": {},
   "outputs": [
    {
     "name": "stdout",
     "output_type": "stream",
     "text": [
      "Adult\n"
     ]
    }
   ],
   "source": [
    "print(age_Category1)"
   ]
  },
  {
   "cell_type": "code",
   "execution_count": null,
   "metadata": {},
   "outputs": [],
   "source": [
    "#Two step code by call to action (It denotes that how return value helps to proceed with 2nd code by call to action)\n",
    "#By giving return value, the function gets its output and pass the output value to the next code"
   ]
  },
  {
   "cell_type": "code",
   "execution_count": 21,
   "metadata": {},
   "outputs": [
    {
     "name": "stdout",
     "output_type": "stream",
     "text": [
      "Enter the number: 23\n",
      "odd number\n"
     ]
    }
   ],
   "source": [
    "def oddEven():\n",
    "    num=int(input(\"Enter the number: \"))\n",
    "    if ((num%2)==0):\n",
    "        print(\"Even number\")\n",
    "        message=\"Even number\"\n",
    "    else:\n",
    "        print(\"odd number\")\n",
    "        message=\"odd number\"\n",
    "    return message\n",
    "\n",
    "\n",
    "Message=oddEven()"
   ]
  },
  {
   "cell_type": "code",
   "execution_count": 22,
   "metadata": {},
   "outputs": [
    {
     "name": "stdout",
     "output_type": "stream",
     "text": [
      "The number is odd\n"
     ]
    }
   ],
   "source": [
    "if (Message==\"odd number\"):\n",
    "    print(\"The number is odd\")\n",
    "else:\n",
    "    print(\"The number is even\")"
   ]
  },
  {
   "cell_type": "code",
   "execution_count": null,
   "metadata": {},
   "outputs": [],
   "source": [
    "#defining function for BMI"
   ]
  },
  {
   "cell_type": "code",
   "execution_count": 26,
   "metadata": {},
   "outputs": [
    {
     "name": "stdout",
     "output_type": "stream",
     "text": [
      "Enter the BMI Index: 34\n",
      "Overweight\n"
     ]
    }
   ],
   "source": [
    "def BMI():\n",
    "    BMI=int(input(\"Enter the BMI Index: \"))\n",
    "    if BMI<18:\n",
    "        print(\"underweight\")\n",
    "        msg=\"underweight\"\n",
    "    elif BMI<25:\n",
    "        print(\"Normal range\") \n",
    "        msg=\"normal range\"\n",
    "    elif BMI<35:\n",
    "        print(\"Overweight\")\n",
    "        msg=\"overweight\"\n",
    "    else:\n",
    "        print(\"Obese\")\n",
    "        msg=\"obese\"\n",
    "    return msg\n",
    "\n",
    "        \n",
    "bmi=BMI()"
   ]
  },
  {
   "cell_type": "code",
   "execution_count": 27,
   "metadata": {},
   "outputs": [
    {
     "data": {
      "text/plain": [
       "'overweight'"
      ]
     },
     "execution_count": 27,
     "metadata": {},
     "output_type": "execute_result"
    }
   ],
   "source": [
    "bmi"
   ]
  },
  {
   "cell_type": "code",
   "execution_count": 29,
   "metadata": {},
   "outputs": [
    {
     "data": {
      "text/plain": [
       "15"
      ]
     },
     "execution_count": 29,
     "metadata": {},
     "output_type": "execute_result"
    }
   ],
   "source": [
    "def addition(num1,num2):\n",
    "    add=num1+num2\n",
    "    return add\n",
    "\n",
    "\n",
    "addition(10,5)\n"
   ]
  },
  {
   "cell_type": "code",
   "execution_count": 30,
   "metadata": {},
   "outputs": [
    {
     "name": "stdout",
     "output_type": "stream",
     "text": [
      "['machine learning', 'neural networks', 'Vision', 'Robotics', 'Speech processing', 'Natural language processing']\n"
     ]
    }
   ],
   "source": [
    "subFields=[\"machine learning\", \"neural networks\", \"Vision\", \"Robotics\", \"Speech processing\", \"Natural language processing\"]\n",
    "print(subFields)"
   ]
  },
  {
   "cell_type": "code",
   "execution_count": 33,
   "metadata": {},
   "outputs": [
    {
     "name": "stdout",
     "output_type": "stream",
     "text": [
      "machine learning\n",
      "neural networks\n",
      "Vision\n",
      "Robotics\n",
      "Speech processing\n",
      "Natural language processing\n"
     ]
    }
   ],
   "source": [
    "for List in subFields:\n",
    "    print(List)"
   ]
  },
  {
   "cell_type": "code",
   "execution_count": 48,
   "metadata": {},
   "outputs": [
    {
     "name": "stdout",
     "output_type": "stream",
     "text": [
      "Sub-Fields in AI are:   ['machine learning', 'neural networks', 'Vision', 'Robotics', 'Speech processing', 'Natural language processing']\n"
     ]
    }
   ],
   "source": [
    "print(\"Sub-Fields in AI are:  \", subFields)"
   ]
  },
  {
   "cell_type": "code",
   "execution_count": 54,
   "metadata": {},
   "outputs": [
    {
     "name": "stdout",
     "output_type": "stream",
     "text": [
      "Sub-Fields in AI are:   Natural language processing\n"
     ]
    }
   ],
   "source": [
    "print(\"Sub-Fields in AI are:  \", List)"
   ]
  },
  {
   "cell_type": "code",
   "execution_count": 46,
   "metadata": {},
   "outputs": [
    {
     "name": "stdout",
     "output_type": "stream",
     "text": [
      "Your Gender: Male\n",
      "Your age: 34\n",
      "Eligible\n"
     ]
    }
   ],
   "source": [
    "Gender=str(input(\"Your Gender: \"))\n",
    "Age=int(input(\"Your age: \"))\n",
    "if(Gender==\"Male\"):\n",
    "    print(\"Eligible\")\n",
    "elif(Gender==Female):\n",
    "    print(\"Eligible\")\n",
    "else:\n",
    "    print(\"Not Eligible\")\n"
   ]
  },
  {
   "cell_type": "code",
   "execution_count": null,
   "metadata": {},
   "outputs": [],
   "source": [
    "#Define a function with parameters"
   ]
  },
  {
   "cell_type": "code",
   "execution_count": 55,
   "metadata": {},
   "outputs": [
    {
     "data": {
      "text/plain": [
       "10"
      ]
     },
     "execution_count": 55,
     "metadata": {},
     "output_type": "execute_result"
    }
   ],
   "source": [
    "def addition(a,b):\n",
    "    add=a+b\n",
    "    return add\n",
    "\n",
    "\n",
    "addition(5,5)\n"
   ]
  },
  {
   "cell_type": "code",
   "execution_count": null,
   "metadata": {},
   "outputs": [],
   "source": []
  }
 ],
 "metadata": {
  "kernelspec": {
   "display_name": "Python 3",
   "language": "python",
   "name": "python3"
  },
  "language_info": {
   "codemirror_mode": {
    "name": "ipython",
    "version": 3
   },
   "file_extension": ".py",
   "mimetype": "text/x-python",
   "name": "python",
   "nbconvert_exporter": "python",
   "pygments_lexer": "ipython3",
   "version": "3.7.4"
  }
 },
 "nbformat": 4,
 "nbformat_minor": 2
}
